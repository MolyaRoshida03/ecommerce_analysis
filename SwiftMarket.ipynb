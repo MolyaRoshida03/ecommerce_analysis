{
 "cells": [
  {
   "cell_type": "code",
   "execution_count": 2,
   "metadata": {},
   "outputs": [],
   "source": [
    "import os \n",
    "\n",
    "import pandas as pd\n",
    "import numpy as np\n",
    "import matplotlib.pyplot as plt\n",
    "import seaborn as sns\n",
    "\n",
    "\n",
    "from sql_functions import read_query"
   ]
  },
  {
   "cell_type": "code",
   "execution_count": 3,
   "metadata": {},
   "outputs": [
    {
     "data": {
      "text/html": [
       "<div>\n",
       "<style scoped>\n",
       "    .dataframe tbody tr th:only-of-type {\n",
       "        vertical-align: middle;\n",
       "    }\n",
       "\n",
       "    .dataframe tbody tr th {\n",
       "        vertical-align: top;\n",
       "    }\n",
       "\n",
       "    .dataframe thead th {\n",
       "        text-align: right;\n",
       "    }\n",
       "</style>\n",
       "<table border=\"1\" class=\"dataframe\">\n",
       "  <thead>\n",
       "    <tr style=\"text-align: right;\">\n",
       "      <th></th>\n",
       "      <th>CustomerID</th>\n",
       "      <th>FirstName</th>\n",
       "      <th>LastName</th>\n",
       "      <th>Email</th>\n",
       "      <th>Phone</th>\n",
       "      <th>Address</th>\n",
       "      <th>State</th>\n",
       "    </tr>\n",
       "  </thead>\n",
       "  <tbody>\n",
       "    <tr>\n",
       "      <th>0</th>\n",
       "      <td>C-2023-100-1</td>\n",
       "      <td>Mahika</td>\n",
       "      <td>Sunder</td>\n",
       "      <td>MahikaSunder_11@zmail.com</td>\n",
       "      <td>03412176590</td>\n",
       "      <td>H.No. 155, Chana</td>\n",
       "      <td>Assam</td>\n",
       "    </tr>\n",
       "    <tr>\n",
       "      <th>1</th>\n",
       "      <td>C-2023-100-10</td>\n",
       "      <td>Zeeshan</td>\n",
       "      <td>Vasa</td>\n",
       "      <td>ZeeshanVasa_1@zmail.com</td>\n",
       "      <td>+911151051656</td>\n",
       "      <td>52, Roy Nagar</td>\n",
       "      <td>Tripura</td>\n",
       "    </tr>\n",
       "    <tr>\n",
       "      <th>2</th>\n",
       "      <td>C-2023-100-100</td>\n",
       "      <td>Aaina</td>\n",
       "      <td>Sachdeva</td>\n",
       "      <td>AainaSachdeva_9@zmail.com</td>\n",
       "      <td>+918834507719</td>\n",
       "      <td>75/92, Kade Marg</td>\n",
       "      <td>Nagaland</td>\n",
       "    </tr>\n",
       "    <tr>\n",
       "      <th>3</th>\n",
       "      <td>C-2023-100-101</td>\n",
       "      <td>Shray</td>\n",
       "      <td>Bajwa</td>\n",
       "      <td>ShrayBajwa_11@zmail.com</td>\n",
       "      <td>07410498662</td>\n",
       "      <td>45, Bora Ganj</td>\n",
       "      <td>Manipur</td>\n",
       "    </tr>\n",
       "  </tbody>\n",
       "</table>\n",
       "</div>"
      ],
      "text/plain": [
       "       CustomerID FirstName  LastName                      Email  \\\n",
       "0    C-2023-100-1    Mahika    Sunder  MahikaSunder_11@zmail.com   \n",
       "1   C-2023-100-10   Zeeshan      Vasa    ZeeshanVasa_1@zmail.com   \n",
       "2  C-2023-100-100     Aaina  Sachdeva  AainaSachdeva_9@zmail.com   \n",
       "3  C-2023-100-101     Shray     Bajwa    ShrayBajwa_11@zmail.com   \n",
       "\n",
       "           Phone           Address     State  \n",
       "0    03412176590  H.No. 155, Chana     Assam  \n",
       "1  +911151051656     52, Roy Nagar   Tripura  \n",
       "2  +918834507719  75/92, Kade Marg  Nagaland  \n",
       "3    07410498662     45, Bora Ganj   Manipur  "
      ]
     },
     "execution_count": 3,
     "metadata": {},
     "output_type": "execute_result"
    }
   ],
   "source": [
    "query = 'select * from customers limit 4;'\n",
    "read_query(query)"
   ]
  },
  {
   "cell_type": "code",
   "execution_count": 4,
   "metadata": {},
   "outputs": [
    {
     "data": {
      "text/html": [
       "<div>\n",
       "<style scoped>\n",
       "    .dataframe tbody tr th:only-of-type {\n",
       "        vertical-align: middle;\n",
       "    }\n",
       "\n",
       "    .dataframe tbody tr th {\n",
       "        vertical-align: top;\n",
       "    }\n",
       "\n",
       "    .dataframe thead th {\n",
       "        text-align: right;\n",
       "    }\n",
       "</style>\n",
       "<table border=\"1\" class=\"dataframe\">\n",
       "  <thead>\n",
       "    <tr style=\"text-align: right;\">\n",
       "      <th></th>\n",
       "      <th>Tables_in_swiftmarket</th>\n",
       "    </tr>\n",
       "  </thead>\n",
       "  <tbody>\n",
       "    <tr>\n",
       "      <th>0</th>\n",
       "      <td>categories</td>\n",
       "    </tr>\n",
       "    <tr>\n",
       "      <th>1</th>\n",
       "      <td>customers</td>\n",
       "    </tr>\n",
       "    <tr>\n",
       "      <th>2</th>\n",
       "      <td>employees</td>\n",
       "    </tr>\n",
       "    <tr>\n",
       "      <th>3</th>\n",
       "      <td>salesdata</td>\n",
       "    </tr>\n",
       "    <tr>\n",
       "      <th>4</th>\n",
       "      <td>subcategories</td>\n",
       "    </tr>\n",
       "    <tr>\n",
       "      <th>5</th>\n",
       "      <td>suppliers</td>\n",
       "    </tr>\n",
       "  </tbody>\n",
       "</table>\n",
       "</div>"
      ],
      "text/plain": [
       "  Tables_in_swiftmarket\n",
       "0            categories\n",
       "1             customers\n",
       "2             employees\n",
       "3             salesdata\n",
       "4         subcategories\n",
       "5             suppliers"
      ]
     },
     "execution_count": 4,
     "metadata": {},
     "output_type": "execute_result"
    }
   ],
   "source": [
    "query = 'show tables;'\n",
    "read_query(query)"
   ]
  },
  {
   "cell_type": "code",
   "execution_count": 5,
   "metadata": {},
   "outputs": [
    {
     "data": {
      "text/html": [
       "<div>\n",
       "<style scoped>\n",
       "    .dataframe tbody tr th:only-of-type {\n",
       "        vertical-align: middle;\n",
       "    }\n",
       "\n",
       "    .dataframe tbody tr th {\n",
       "        vertical-align: top;\n",
       "    }\n",
       "\n",
       "    .dataframe thead th {\n",
       "        text-align: right;\n",
       "    }\n",
       "</style>\n",
       "<table border=\"1\" class=\"dataframe\">\n",
       "  <thead>\n",
       "    <tr style=\"text-align: right;\">\n",
       "      <th></th>\n",
       "      <th>SaleID</th>\n",
       "      <th>CustomerID</th>\n",
       "      <th>SubcatID</th>\n",
       "      <th>EmployeeID</th>\n",
       "      <th>SaleDate</th>\n",
       "      <th>Quantity</th>\n",
       "      <th>TotalPrice</th>\n",
       "    </tr>\n",
       "  </thead>\n",
       "  <tbody>\n",
       "    <tr>\n",
       "      <th>0</th>\n",
       "      <td>23000</td>\n",
       "      <td>C-2023-100-12</td>\n",
       "      <td>6002</td>\n",
       "      <td>1100</td>\n",
       "      <td>2023-05-02</td>\n",
       "      <td>2</td>\n",
       "      <td>176432.00</td>\n",
       "    </tr>\n",
       "    <tr>\n",
       "      <th>1</th>\n",
       "      <td>23001</td>\n",
       "      <td>C-2023-100-141</td>\n",
       "      <td>6029</td>\n",
       "      <td>1115</td>\n",
       "      <td>2023-12-26</td>\n",
       "      <td>2</td>\n",
       "      <td>47172.00</td>\n",
       "    </tr>\n",
       "    <tr>\n",
       "      <th>2</th>\n",
       "      <td>23002</td>\n",
       "      <td>C-2023-100-86</td>\n",
       "      <td>6029</td>\n",
       "      <td>1035</td>\n",
       "      <td>2023-03-26</td>\n",
       "      <td>2</td>\n",
       "      <td>47172.00</td>\n",
       "    </tr>\n",
       "  </tbody>\n",
       "</table>\n",
       "</div>"
      ],
      "text/plain": [
       "   SaleID      CustomerID  SubcatID  EmployeeID    SaleDate  Quantity  \\\n",
       "0   23000   C-2023-100-12      6002        1100  2023-05-02         2   \n",
       "1   23001  C-2023-100-141      6029        1115  2023-12-26         2   \n",
       "2   23002   C-2023-100-86      6029        1035  2023-03-26         2   \n",
       "\n",
       "  TotalPrice  \n",
       "0  176432.00  \n",
       "1   47172.00  \n",
       "2   47172.00  "
      ]
     },
     "execution_count": 5,
     "metadata": {},
     "output_type": "execute_result"
    }
   ],
   "source": [
    "query = \"\"\"Select * from salesdata limit 3;\"\"\"\n",
    "read_query(query)\n",
    "\n"
   ]
  },
  {
   "cell_type": "code",
   "execution_count": 6,
   "metadata": {},
   "outputs": [
    {
     "data": {
      "text/html": [
       "<div>\n",
       "<style scoped>\n",
       "    .dataframe tbody tr th:only-of-type {\n",
       "        vertical-align: middle;\n",
       "    }\n",
       "\n",
       "    .dataframe tbody tr th {\n",
       "        vertical-align: top;\n",
       "    }\n",
       "\n",
       "    .dataframe thead th {\n",
       "        text-align: right;\n",
       "    }\n",
       "</style>\n",
       "<table border=\"1\" class=\"dataframe\">\n",
       "  <thead>\n",
       "    <tr style=\"text-align: right;\">\n",
       "      <th></th>\n",
       "      <th>customerid</th>\n",
       "      <th>firstname</th>\n",
       "      <th>saledate</th>\n",
       "      <th>totalprice</th>\n",
       "    </tr>\n",
       "  </thead>\n",
       "  <tbody>\n",
       "    <tr>\n",
       "      <th>0</th>\n",
       "      <td>C-2023-100-12</td>\n",
       "      <td>Farhan</td>\n",
       "      <td>2023-05-02</td>\n",
       "      <td>176432.00</td>\n",
       "    </tr>\n",
       "    <tr>\n",
       "      <th>1</th>\n",
       "      <td>C-2023-100-141</td>\n",
       "      <td>Nirvi</td>\n",
       "      <td>2023-12-26</td>\n",
       "      <td>47172.00</td>\n",
       "    </tr>\n",
       "    <tr>\n",
       "      <th>2</th>\n",
       "      <td>C-2023-100-86</td>\n",
       "      <td>Zaina</td>\n",
       "      <td>2023-03-26</td>\n",
       "      <td>47172.00</td>\n",
       "    </tr>\n",
       "    <tr>\n",
       "      <th>3</th>\n",
       "      <td>C-2023-100-72</td>\n",
       "      <td>Darshit</td>\n",
       "      <td>2023-08-01</td>\n",
       "      <td>117644.00</td>\n",
       "    </tr>\n",
       "    <tr>\n",
       "      <th>4</th>\n",
       "      <td>C-2023-100-142</td>\n",
       "      <td>Aarush</td>\n",
       "      <td>2023-03-06</td>\n",
       "      <td>336560.00</td>\n",
       "    </tr>\n",
       "  </tbody>\n",
       "</table>\n",
       "</div>"
      ],
      "text/plain": [
       "       customerid firstname    saledate totalprice\n",
       "0   C-2023-100-12    Farhan  2023-05-02  176432.00\n",
       "1  C-2023-100-141     Nirvi  2023-12-26   47172.00\n",
       "2   C-2023-100-86     Zaina  2023-03-26   47172.00\n",
       "3   C-2023-100-72   Darshit  2023-08-01  117644.00\n",
       "4  C-2023-100-142    Aarush  2023-03-06  336560.00"
      ]
     },
     "execution_count": 6,
     "metadata": {},
     "output_type": "execute_result"
    }
   ],
   "source": [
    "query = \"\"\"Select s.customerid, c.firstname,s.saledate,s.totalprice\n",
    "from salesdata s\n",
    "join customers c\n",
    "on s.customerid = c.customerid\n",
    "limit 5;\"\"\"\n",
    "\n",
    "read_query(query)"
   ]
  },
  {
   "cell_type": "code",
   "execution_count": 11,
   "metadata": {},
   "outputs": [],
   "source": [
    "# Q.Get the top names of the highest purchasers customer's name of a whole year\n",
    "\n",
    "query = \"\"\"\n",
    "Select t.customerid,c.firstname,t.expenditure\n",
    "from \n",
    "(Select customerid,\n",
    "sum(totalprice) as expenditure\n",
    "from salesdata \n",
    "group by customerid) t\n",
    "join customers c\n",
    "on t.customerid=c.customerid\n",
    "order by t.expenditure\n",
    "limit 10; \"\"\"\n",
    "\n",
    "\n",
    "top_annual_customers = read_query(query)"
   ]
  },
  {
   "cell_type": "code",
   "execution_count": 12,
   "metadata": {},
   "outputs": [
    {
     "data": {
      "text/html": [
       "<div>\n",
       "<style scoped>\n",
       "    .dataframe tbody tr th:only-of-type {\n",
       "        vertical-align: middle;\n",
       "    }\n",
       "\n",
       "    .dataframe tbody tr th {\n",
       "        vertical-align: top;\n",
       "    }\n",
       "\n",
       "    .dataframe thead th {\n",
       "        text-align: right;\n",
       "    }\n",
       "</style>\n",
       "<table border=\"1\" class=\"dataframe\">\n",
       "  <thead>\n",
       "    <tr style=\"text-align: right;\">\n",
       "      <th></th>\n",
       "      <th>customerid</th>\n",
       "      <th>firstname</th>\n",
       "      <th>expenditure</th>\n",
       "    </tr>\n",
       "  </thead>\n",
       "  <tbody>\n",
       "    <tr>\n",
       "      <th>0</th>\n",
       "      <td>C-2023-100-150</td>\n",
       "      <td>Taran</td>\n",
       "      <td>5841090.00</td>\n",
       "    </tr>\n",
       "    <tr>\n",
       "      <th>1</th>\n",
       "      <td>C-2023-100-80</td>\n",
       "      <td>Reyansh</td>\n",
       "      <td>5950321.00</td>\n",
       "    </tr>\n",
       "    <tr>\n",
       "      <th>2</th>\n",
       "      <td>C-2023-100-59</td>\n",
       "      <td>Biju</td>\n",
       "      <td>6243957.00</td>\n",
       "    </tr>\n",
       "    <tr>\n",
       "      <th>3</th>\n",
       "      <td>C-2023-100-24</td>\n",
       "      <td>Hunar</td>\n",
       "      <td>6504654.00</td>\n",
       "    </tr>\n",
       "    <tr>\n",
       "      <th>4</th>\n",
       "      <td>C-2023-100-85</td>\n",
       "      <td>Faiyaz</td>\n",
       "      <td>6590175.00</td>\n",
       "    </tr>\n",
       "    <tr>\n",
       "      <th>5</th>\n",
       "      <td>C-2023-100-103</td>\n",
       "      <td>Anvi</td>\n",
       "      <td>6676018.00</td>\n",
       "    </tr>\n",
       "    <tr>\n",
       "      <th>6</th>\n",
       "      <td>C-2023-100-171</td>\n",
       "      <td>Saksham</td>\n",
       "      <td>6748067.00</td>\n",
       "    </tr>\n",
       "    <tr>\n",
       "      <th>7</th>\n",
       "      <td>C-2023-100-123</td>\n",
       "      <td>Prisha</td>\n",
       "      <td>6835961.00</td>\n",
       "    </tr>\n",
       "    <tr>\n",
       "      <th>8</th>\n",
       "      <td>C-2023-100-107</td>\n",
       "      <td>Jivika</td>\n",
       "      <td>6842296.00</td>\n",
       "    </tr>\n",
       "    <tr>\n",
       "      <th>9</th>\n",
       "      <td>C-2023-100-51</td>\n",
       "      <td>Tejas</td>\n",
       "      <td>6868748.00</td>\n",
       "    </tr>\n",
       "  </tbody>\n",
       "</table>\n",
       "</div>"
      ],
      "text/plain": [
       "       customerid firstname expenditure\n",
       "0  C-2023-100-150     Taran  5841090.00\n",
       "1   C-2023-100-80   Reyansh  5950321.00\n",
       "2   C-2023-100-59      Biju  6243957.00\n",
       "3   C-2023-100-24     Hunar  6504654.00\n",
       "4   C-2023-100-85    Faiyaz  6590175.00\n",
       "5  C-2023-100-103      Anvi  6676018.00\n",
       "6  C-2023-100-171   Saksham  6748067.00\n",
       "7  C-2023-100-123    Prisha  6835961.00\n",
       "8  C-2023-100-107    Jivika  6842296.00\n",
       "9   C-2023-100-51     Tejas  6868748.00"
      ]
     },
     "execution_count": 12,
     "metadata": {},
     "output_type": "execute_result"
    }
   ],
   "source": [
    "top_annual_customers"
   ]
  },
  {
   "cell_type": "code",
   "execution_count": 13,
   "metadata": {},
   "outputs": [
    {
     "data": {
      "text/plain": [
       "array([Decimal('5841090.00'), Decimal('5950321.00'),\n",
       "       Decimal('6243957.00'), Decimal('6504654.00'),\n",
       "       Decimal('6590175.00'), Decimal('6676018.00'),\n",
       "       Decimal('6748067.00'), Decimal('6835961.00'),\n",
       "       Decimal('6842296.00'), Decimal('6868748.00')], dtype=object)"
      ]
     },
     "execution_count": 13,
     "metadata": {},
     "output_type": "execute_result"
    }
   ],
   "source": [
    "top_annual_customers['expenditure'].values"
   ]
  },
  {
   "cell_type": "code",
   "execution_count": 14,
   "metadata": {},
   "outputs": [
    {
     "name": "stdout",
     "output_type": "stream",
     "text": [
      "<class 'pandas.core.frame.DataFrame'>\n",
      "RangeIndex: 10 entries, 0 to 9\n",
      "Data columns (total 3 columns):\n",
      " #   Column       Non-Null Count  Dtype \n",
      "---  ------       --------------  ----- \n",
      " 0   customerid   10 non-null     object\n",
      " 1   firstname    10 non-null     object\n",
      " 2   expenditure  10 non-null     object\n",
      "dtypes: object(3)\n",
      "memory usage: 372.0+ bytes\n"
     ]
    }
   ],
   "source": [
    "top_annual_customers.info()"
   ]
  },
  {
   "cell_type": "code",
   "execution_count": 15,
   "metadata": {},
   "outputs": [],
   "source": [
    "# need to change the datatype of the expentiure onject into numbers (float or int)\n",
    "\n",
    "top_annual_customers['expenditure'] = top_annual_customers['expenditure'].astype(float)\n"
   ]
  },
  {
   "cell_type": "code",
   "execution_count": 16,
   "metadata": {},
   "outputs": [
    {
     "name": "stdout",
     "output_type": "stream",
     "text": [
      "<class 'pandas.core.frame.DataFrame'>\n",
      "RangeIndex: 10 entries, 0 to 9\n",
      "Data columns (total 3 columns):\n",
      " #   Column       Non-Null Count  Dtype  \n",
      "---  ------       --------------  -----  \n",
      " 0   customerid   10 non-null     object \n",
      " 1   firstname    10 non-null     object \n",
      " 2   expenditure  10 non-null     float64\n",
      "dtypes: float64(1), object(2)\n",
      "memory usage: 372.0+ bytes\n"
     ]
    }
   ],
   "source": [
    "top_annual_customers.info()"
   ]
  },
  {
   "cell_type": "code",
   "execution_count": 17,
   "metadata": {},
   "outputs": [],
   "source": [
    "customer_names = top_annual_customers['firstname'].values"
   ]
  },
  {
   "cell_type": "code",
   "execution_count": 18,
   "metadata": {},
   "outputs": [],
   "source": [
    "customer_exp = top_annual_customers['expenditure'].values"
   ]
  },
  {
   "cell_type": "code",
   "execution_count": 19,
   "metadata": {},
   "outputs": [
    {
     "data": {
      "text/plain": [
       "array(['Taran', 'Reyansh', 'Biju', 'Hunar', 'Faiyaz', 'Anvi', 'Saksham',\n",
       "       'Prisha', 'Jivika', 'Tejas'], dtype=object)"
      ]
     },
     "execution_count": 19,
     "metadata": {},
     "output_type": "execute_result"
    }
   ],
   "source": [
    "customer_names"
   ]
  },
  {
   "cell_type": "code",
   "execution_count": 20,
   "metadata": {},
   "outputs": [
    {
     "data": {
      "text/plain": [
       "array([5841090., 5950321., 6243957., 6504654., 6590175., 6676018.,\n",
       "       6748067., 6835961., 6842296., 6868748.])"
      ]
     },
     "execution_count": 20,
     "metadata": {},
     "output_type": "execute_result"
    }
   ],
   "source": [
    "customer_exp"
   ]
  },
  {
   "cell_type": "code",
   "execution_count": 23,
   "metadata": {},
   "outputs": [
    {
     "data": {
      "image/png": "[encoded data removed]",
      "text/plain": [
       "<Figure size 1000x400 with 1 Axes>"
      ]
     },
     "metadata": {},
     "output_type": "display_data"
    }
   ],
   "source": [
    "# customize the figure size\n",
    "plt.figure(figsize=(10,4))\n",
    "\n",
    "# ploting bar graph\n",
    "plt.bar(x=customer_names,height =customer_exp,color='#CCCCFF')\n",
    "\n",
    "# giving title to the graph\n",
    "plt.title(\"Top 10 Annual Customer's Names\",pad=15, size=15,color='red')\n",
    "\n",
    "# using cmap\n",
    "#cmap = plt.cm.Greens(np.linspace(0.5,1),len(customer_names))\n",
    "\n",
    "# giving labels to the grapg\n",
    "plt.xlabel('customer_names',labelpad=15, color='purple', size=15)\n",
    "plt.ylabel('customer_exp',labelpad=15, c='purple',size=15)\n",
    "\n",
    "# using anotation\n",
    "plt.xticks(rotation = 25,c='#000080')\n",
    "\n",
    "# applying grid\n",
    "plt.grid(axis='y',alpha=0.5,color='black',ls='dashed')\n",
    "\n",
    "\n",
    "\n",
    "plt.show()"
   ]
  },
  {
   "cell_type": "code",
   "execution_count": 17,
   "metadata": {},
   "outputs": [
    {
     "data": {
      "text/plain": [
       "1000000.0"
      ]
     },
     "execution_count": 17,
     "metadata": {},
     "output_type": "execute_result"
    }
   ],
   "source": [
    "1e6"
   ]
  },
  {
   "cell_type": "code",
   "execution_count": 24,
   "metadata": {},
   "outputs": [
    {
     "data": {
      "image/png": "[encoded data removed]",
      "text/plain": [
       "<Figure size 1000x400 with 1 Axes>"
      ]
     },
     "metadata": {},
     "output_type": "display_data"
    }
   ],
   "source": [
    "plt.figure(figsize=(10,4))\n",
    "\n",
    "plt.plot(customer_names,customer_exp,color='#F88379',linestyle='dashed',marker='o',markeredgecolor='black',markersize = 8,mfc='blue',lw = 1) \n",
    "\n",
    "plt.title(\"Top_annual_customer's_names\",pad=15, size=15,color='green')\n",
    "\n",
    "plt.xlabel('customer_names',labelpad=15, color='purple', size=15)\n",
    "plt.ylabel('customer_exp',labelpad=15, c='purple',size=15)\n",
    "\n",
    "plt.xticks(rotation = 25,c='#000080')\n",
    "\n",
    "plt.grid(axis='y',alpha=0.5,color='black',ls='dotted')\n",
    "\n",
    "\n",
    "plt.show()"
   ]
  },
  {
   "cell_type": "code",
   "execution_count": null,
   "metadata": {},
   "outputs": [],
   "source": [
    "    "
   ]
  }
 ],
 "metadata": {
  "kernelspec": {
   "display_name": "10amProject",
   "language": "python",
   "name": "python3"
  },
  "language_info": {
   "codemirror_mode": {
    "name": "ipython",
    "version": 3
   },
   "file_extension": ".py",
   "mimetype": "text/x-python",
   "name": "python",
   "nbconvert_exporter": "python",
   "pygments_lexer": "ipython3",
   "version": "3.11.8"
  }
 },
 "nbformat": 4,
 "nbformat_minor": 2
}

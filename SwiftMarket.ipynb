{
 "cells": [
  {
   "cell_type": "code",
   "execution_count": 1,
   "metadata": {},
   "outputs": [],
   "source": [
    "import os \n",
    "\n",
    "import pandas as pd\n",
    "import numpy as np\n",
    "import matplotlib.pyplot as plt\n",
    "import seaborn as sns\n",
    "\n",
    "\n",
    "from sql_functions import read_query"
   ]
  },
  {
   "cell_type": "code",
   "execution_count": 2,
   "metadata": {},
   "outputs": [
    {
     "data": {
      "text/html": [
       "<div>\n",
       "<style scoped>\n",
       "    .dataframe tbody tr th:only-of-type {\n",
       "        vertical-align: middle;\n",
       "    }\n",
       "\n",
       "    .dataframe tbody tr th {\n",
       "        vertical-align: top;\n",
       "    }\n",
       "\n",
       "    .dataframe thead th {\n",
       "        text-align: right;\n",
       "    }\n",
       "</style>\n",
       "<table border=\"1\" class=\"dataframe\">\n",
       "  <thead>\n",
       "    <tr style=\"text-align: right;\">\n",
       "      <th></th>\n",
       "      <th>CustomerID</th>\n",
       "      <th>FirstName</th>\n",
       "      <th>LastName</th>\n",
       "      <th>Email</th>\n",
       "      <th>Phone</th>\n",
       "      <th>Address</th>\n",
       "      <th>State</th>\n",
       "    </tr>\n",
       "  </thead>\n",
       "  <tbody>\n",
       "    <tr>\n",
       "      <th>0</th>\n",
       "      <td>C-2023-100-1</td>\n",
       "      <td>Mahika</td>\n",
       "      <td>Sunder</td>\n",
       "      <td>MahikaSunder_11@zmail.com</td>\n",
       "      <td>03412176590</td>\n",
       "      <td>H.No. 155, Chana</td>\n",
       "      <td>Assam</td>\n",
       "    </tr>\n",
       "    <tr>\n",
       "      <th>1</th>\n",
       "      <td>C-2023-100-10</td>\n",
       "      <td>Zeeshan</td>\n",
       "      <td>Vasa</td>\n",
       "      <td>ZeeshanVasa_1@zmail.com</td>\n",
       "      <td>+911151051656</td>\n",
       "      <td>52, Roy Nagar</td>\n",
       "      <td>Tripura</td>\n",
       "    </tr>\n",
       "    <tr>\n",
       "      <th>2</th>\n",
       "      <td>C-2023-100-100</td>\n",
       "      <td>Aaina</td>\n",
       "      <td>Sachdeva</td>\n",
       "      <td>AainaSachdeva_9@zmail.com</td>\n",
       "      <td>+918834507719</td>\n",
       "      <td>75/92, Kade Marg</td>\n",
       "      <td>Nagaland</td>\n",
       "    </tr>\n",
       "    <tr>\n",
       "      <th>3</th>\n",
       "      <td>C-2023-100-101</td>\n",
       "      <td>Shray</td>\n",
       "      <td>Bajwa</td>\n",
       "      <td>ShrayBajwa_11@zmail.com</td>\n",
       "      <td>07410498662</td>\n",
       "      <td>45, Bora Ganj</td>\n",
       "      <td>Manipur</td>\n",
       "    </tr>\n",
       "  </tbody>\n",
       "</table>\n",
       "</div>"
      ],
      "text/plain": [
       "       CustomerID FirstName  LastName                      Email  \\\n",
       "0    C-2023-100-1    Mahika    Sunder  MahikaSunder_11@zmail.com   \n",
       "1   C-2023-100-10   Zeeshan      Vasa    ZeeshanVasa_1@zmail.com   \n",
       "2  C-2023-100-100     Aaina  Sachdeva  AainaSachdeva_9@zmail.com   \n",
       "3  C-2023-100-101     Shray     Bajwa    ShrayBajwa_11@zmail.com   \n",
       "\n",
       "           Phone           Address     State  \n",
       "0    03412176590  H.No. 155, Chana     Assam  \n",
       "1  +911151051656     52, Roy Nagar   Tripura  \n",
       "2  +918834507719  75/92, Kade Marg  Nagaland  \n",
       "3    07410498662     45, Bora Ganj   Manipur  "
      ]
     },
     "execution_count": 2,
     "metadata": {},
     "output_type": "execute_result"
    }
   ],
   "source": [
    "query = 'select * from customers limit 4;'\n",
    "read_query(query)"
   ]
  },
  {
   "cell_type": "code",
   "execution_count": 3,
   "metadata": {},
   "outputs": [
    {
     "data": {
      "text/html": [
       "<div>\n",
       "<style scoped>\n",
       "    .dataframe tbody tr th:only-of-type {\n",
       "        vertical-align: middle;\n",
       "    }\n",
       "\n",
       "    .dataframe tbody tr th {\n",
       "        vertical-align: top;\n",
       "    }\n",
       "\n",
       "    .dataframe thead th {\n",
       "        text-align: right;\n",
       "    }\n",
       "</style>\n",
       "<table border=\"1\" class=\"dataframe\">\n",
       "  <thead>\n",
       "    <tr style=\"text-align: right;\">\n",
       "      <th></th>\n",
       "      <th>Tables_in_swiftmarket</th>\n",
       "    </tr>\n",
       "  </thead>\n",
       "  <tbody>\n",
       "    <tr>\n",
       "      <th>0</th>\n",
       "      <td>categories</td>\n",
       "    </tr>\n",
       "    <tr>\n",
       "      <th>1</th>\n",
       "      <td>customers</td>\n",
       "    </tr>\n",
       "    <tr>\n",
       "      <th>2</th>\n",
       "      <td>employees</td>\n",
       "    </tr>\n",
       "    <tr>\n",
       "      <th>3</th>\n",
       "      <td>salesdata</td>\n",
       "    </tr>\n",
       "    <tr>\n",
       "      <th>4</th>\n",
       "      <td>subcategories</td>\n",
       "    </tr>\n",
       "    <tr>\n",
       "      <th>5</th>\n",
       "      <td>suppliers</td>\n",
       "    </tr>\n",
       "  </tbody>\n",
       "</table>\n",
       "</div>"
      ],
      "text/plain": [
       "  Tables_in_swiftmarket\n",
       "0            categories\n",
       "1             customers\n",
       "2             employees\n",
       "3             salesdata\n",
       "4         subcategories\n",
       "5             suppliers"
      ]
     },
     "execution_count": 3,
     "metadata": {},
     "output_type": "execute_result"
    }
   ],
   "source": [
    "query = 'show tables;'\n",
    "read_query(query)"
   ]
  },
  {
   "cell_type": "code",
   "execution_count": 4,
   "metadata": {},
   "outputs": [
    {
     "data": {
      "text/html": [
       "<div>\n",
       "<style scoped>\n",
       "    .dataframe tbody tr th:only-of-type {\n",
       "        vertical-align: middle;\n",
       "    }\n",
       "\n",
       "    .dataframe tbody tr th {\n",
       "        vertical-align: top;\n",
       "    }\n",
       "\n",
       "    .dataframe thead th {\n",
       "        text-align: right;\n",
       "    }\n",
       "</style>\n",
       "<table border=\"1\" class=\"dataframe\">\n",
       "  <thead>\n",
       "    <tr style=\"text-align: right;\">\n",
       "      <th></th>\n",
       "      <th>SaleID</th>\n",
       "      <th>CustomerID</th>\n",
       "      <th>SubcatID</th>\n",
       "      <th>EmployeeID</th>\n",
       "      <th>SaleDate</th>\n",
       "      <th>Quantity</th>\n",
       "      <th>TotalPrice</th>\n",
       "    </tr>\n",
       "  </thead>\n",
       "  <tbody>\n",
       "    <tr>\n",
       "      <th>0</th>\n",
       "      <td>23000</td>\n",
       "      <td>C-2023-100-12</td>\n",
       "      <td>6002</td>\n",
       "      <td>1100</td>\n",
       "      <td>2023-05-02</td>\n",
       "      <td>2</td>\n",
       "      <td>176432.00</td>\n",
       "    </tr>\n",
       "    <tr>\n",
       "      <th>1</th>\n",
       "      <td>23001</td>\n",
       "      <td>C-2023-100-141</td>\n",
       "      <td>6029</td>\n",
       "      <td>1115</td>\n",
       "      <td>2023-12-26</td>\n",
       "      <td>2</td>\n",
       "      <td>47172.00</td>\n",
       "    </tr>\n",
       "    <tr>\n",
       "      <th>2</th>\n",
       "      <td>23002</td>\n",
       "      <td>C-2023-100-86</td>\n",
       "      <td>6029</td>\n",
       "      <td>1035</td>\n",
       "      <td>2023-03-26</td>\n",
       "      <td>2</td>\n",
       "      <td>47172.00</td>\n",
       "    </tr>\n",
       "  </tbody>\n",
       "</table>\n",
       "</div>"
      ],
      "text/plain": [
       "   SaleID      CustomerID  SubcatID  EmployeeID    SaleDate  Quantity  \\\n",
       "0   23000   C-2023-100-12      6002        1100  2023-05-02         2   \n",
       "1   23001  C-2023-100-141      6029        1115  2023-12-26         2   \n",
       "2   23002   C-2023-100-86      6029        1035  2023-03-26         2   \n",
       "\n",
       "  TotalPrice  \n",
       "0  176432.00  \n",
       "1   47172.00  \n",
       "2   47172.00  "
      ]
     },
     "execution_count": 4,
     "metadata": {},
     "output_type": "execute_result"
    }
   ],
   "source": [
    "query = \"\"\"Select * from salesdata limit 3;\"\"\"\n",
    "read_query(query)\n",
    "\n"
   ]
  },
  {
   "cell_type": "code",
   "execution_count": 5,
   "metadata": {},
   "outputs": [
    {
     "data": {
      "text/html": [
       "<div>\n",
       "<style scoped>\n",
       "    .dataframe tbody tr th:only-of-type {\n",
       "        vertical-align: middle;\n",
       "    }\n",
       "\n",
       "    .dataframe tbody tr th {\n",
       "        vertical-align: top;\n",
       "    }\n",
       "\n",
       "    .dataframe thead th {\n",
       "        text-align: right;\n",
       "    }\n",
       "</style>\n",
       "<table border=\"1\" class=\"dataframe\">\n",
       "  <thead>\n",
       "    <tr style=\"text-align: right;\">\n",
       "      <th></th>\n",
       "      <th>customerid</th>\n",
       "      <th>firstname</th>\n",
       "      <th>saledate</th>\n",
       "      <th>totalprice</th>\n",
       "    </tr>\n",
       "  </thead>\n",
       "  <tbody>\n",
       "    <tr>\n",
       "      <th>0</th>\n",
       "      <td>C-2023-100-1</td>\n",
       "      <td>Mahika</td>\n",
       "      <td>2023-07-22</td>\n",
       "      <td>67312.00</td>\n",
       "    </tr>\n",
       "    <tr>\n",
       "      <th>1</th>\n",
       "      <td>C-2023-100-1</td>\n",
       "      <td>Mahika</td>\n",
       "      <td>2023-05-23</td>\n",
       "      <td>176466.00</td>\n",
       "    </tr>\n",
       "    <tr>\n",
       "      <th>2</th>\n",
       "      <td>C-2023-100-1</td>\n",
       "      <td>Mahika</td>\n",
       "      <td>2023-11-26</td>\n",
       "      <td>190332.00</td>\n",
       "    </tr>\n",
       "    <tr>\n",
       "      <th>3</th>\n",
       "      <td>C-2023-100-1</td>\n",
       "      <td>Mahika</td>\n",
       "      <td>2023-03-31</td>\n",
       "      <td>205080.00</td>\n",
       "    </tr>\n",
       "    <tr>\n",
       "      <th>4</th>\n",
       "      <td>C-2023-100-1</td>\n",
       "      <td>Mahika</td>\n",
       "      <td>2023-11-22</td>\n",
       "      <td>14174.00</td>\n",
       "    </tr>\n",
       "  </tbody>\n",
       "</table>\n",
       "</div>"
      ],
      "text/plain": [
       "     customerid firstname    saledate totalprice\n",
       "0  C-2023-100-1    Mahika  2023-07-22   67312.00\n",
       "1  C-2023-100-1    Mahika  2023-05-23  176466.00\n",
       "2  C-2023-100-1    Mahika  2023-11-26  190332.00\n",
       "3  C-2023-100-1    Mahika  2023-03-31  205080.00\n",
       "4  C-2023-100-1    Mahika  2023-11-22   14174.00"
      ]
     },
     "execution_count": 5,
     "metadata": {},
     "output_type": "execute_result"
    }
   ],
   "source": [
    "query = \"\"\"Select s.customerid, c.firstname,s.saledate,s.totalprice\n",
    "from salesdata s\n",
    "join customers c\n",
    "on s.customerid = c.customerid\n",
    "limit 5;\"\"\"\n",
    "\n",
    "read_query(query)"
   ]
  },
  {
   "cell_type": "code",
   "execution_count": 6,
   "metadata": {},
   "outputs": [],
   "source": [
    "# Q.Get the top names of the highest purchasers customer's name of a whole year\n",
    "\n",
    "query = \"\"\"\n",
    "Select t.customerid,c.firstname,t.expenditure\n",
    "from \n",
    "(Select customerid,\n",
    "sum(totalprice) as expenditure\n",
    "from salesdata \n",
    "group by customerid) t\n",
    "join customers c\n",
    "on t.customerid=c.customerid\n",
    "order by t.expenditure desc\n",
    "limit 10; \"\"\"\n",
    "\n",
    "\n",
    "top_annual_customers = read_query(query)"
   ]
  },
  {
   "cell_type": "code",
   "execution_count": 7,
   "metadata": {},
   "outputs": [
    {
     "data": {
      "text/html": [
       "<div>\n",
       "<style scoped>\n",
       "    .dataframe tbody tr th:only-of-type {\n",
       "        vertical-align: middle;\n",
       "    }\n",
       "\n",
       "    .dataframe tbody tr th {\n",
       "        vertical-align: top;\n",
       "    }\n",
       "\n",
       "    .dataframe thead th {\n",
       "        text-align: right;\n",
       "    }\n",
       "</style>\n",
       "<table border=\"1\" class=\"dataframe\">\n",
       "  <thead>\n",
       "    <tr style=\"text-align: right;\">\n",
       "      <th></th>\n",
       "      <th>customerid</th>\n",
       "      <th>firstname</th>\n",
       "      <th>expenditure</th>\n",
       "    </tr>\n",
       "  </thead>\n",
       "  <tbody>\n",
       "    <tr>\n",
       "      <th>0</th>\n",
       "      <td>C-2023-100-13</td>\n",
       "      <td>Veer</td>\n",
       "      <td>13016064.00</td>\n",
       "    </tr>\n",
       "    <tr>\n",
       "      <th>1</th>\n",
       "      <td>C-2023-100-94</td>\n",
       "      <td>Priyansh</td>\n",
       "      <td>12629337.00</td>\n",
       "    </tr>\n",
       "    <tr>\n",
       "      <th>2</th>\n",
       "      <td>C-2023-100-57</td>\n",
       "      <td>Riya</td>\n",
       "      <td>12599608.00</td>\n",
       "    </tr>\n",
       "    <tr>\n",
       "      <th>3</th>\n",
       "      <td>C-2023-100-58</td>\n",
       "      <td>Vanya</td>\n",
       "      <td>12455437.00</td>\n",
       "    </tr>\n",
       "    <tr>\n",
       "      <th>4</th>\n",
       "      <td>C-2023-100-88</td>\n",
       "      <td>Dhruv</td>\n",
       "      <td>12280916.00</td>\n",
       "    </tr>\n",
       "    <tr>\n",
       "      <th>5</th>\n",
       "      <td>C-2023-100-165</td>\n",
       "      <td>Tarini</td>\n",
       "      <td>12130487.00</td>\n",
       "    </tr>\n",
       "    <tr>\n",
       "      <th>6</th>\n",
       "      <td>C-2023-100-197</td>\n",
       "      <td>Yuvraj</td>\n",
       "      <td>11868602.00</td>\n",
       "    </tr>\n",
       "    <tr>\n",
       "      <th>7</th>\n",
       "      <td>C-2023-100-199</td>\n",
       "      <td>Rhea</td>\n",
       "      <td>11704275.00</td>\n",
       "    </tr>\n",
       "    <tr>\n",
       "      <th>8</th>\n",
       "      <td>C-2023-100-196</td>\n",
       "      <td>Darshit</td>\n",
       "      <td>11520699.00</td>\n",
       "    </tr>\n",
       "    <tr>\n",
       "      <th>9</th>\n",
       "      <td>C-2023-100-75</td>\n",
       "      <td>Prerak</td>\n",
       "      <td>11442527.00</td>\n",
       "    </tr>\n",
       "  </tbody>\n",
       "</table>\n",
       "</div>"
      ],
      "text/plain": [
       "       customerid firstname  expenditure\n",
       "0   C-2023-100-13      Veer  13016064.00\n",
       "1   C-2023-100-94  Priyansh  12629337.00\n",
       "2   C-2023-100-57      Riya  12599608.00\n",
       "3   C-2023-100-58     Vanya  12455437.00\n",
       "4   C-2023-100-88     Dhruv  12280916.00\n",
       "5  C-2023-100-165    Tarini  12130487.00\n",
       "6  C-2023-100-197   Yuvraj   11868602.00\n",
       "7  C-2023-100-199      Rhea  11704275.00\n",
       "8  C-2023-100-196   Darshit  11520699.00\n",
       "9   C-2023-100-75    Prerak  11442527.00"
      ]
     },
     "execution_count": 7,
     "metadata": {},
     "output_type": "execute_result"
    }
   ],
   "source": [
    "top_annual_customers"
   ]
  },
  {
   "cell_type": "code",
   "execution_count": 8,
   "metadata": {},
   "outputs": [
    {
     "data": {
      "text/plain": [
       "array([Decimal('13016064.00'), Decimal('12629337.00'),\n",
       "       Decimal('12599608.00'), Decimal('12455437.00'),\n",
       "       Decimal('12280916.00'), Decimal('12130487.00'),\n",
       "       Decimal('11868602.00'), Decimal('11704275.00'),\n",
       "       Decimal('11520699.00'), Decimal('11442527.00')], dtype=object)"
      ]
     },
     "execution_count": 8,
     "metadata": {},
     "output_type": "execute_result"
    }
   ],
   "source": [
    "top_annual_customers['expenditure'].values"
   ]
  },
  {
   "cell_type": "code",
   "execution_count": 9,
   "metadata": {},
   "outputs": [
    {
     "name": "stdout",
     "output_type": "stream",
     "text": [
      "<class 'pandas.core.frame.DataFrame'>\n",
      "RangeIndex: 10 entries, 0 to 9\n",
      "Data columns (total 3 columns):\n",
      " #   Column       Non-Null Count  Dtype \n",
      "---  ------       --------------  ----- \n",
      " 0   customerid   10 non-null     object\n",
      " 1   firstname    10 non-null     object\n",
      " 2   expenditure  10 non-null     object\n",
      "dtypes: object(3)\n",
      "memory usage: 372.0+ bytes\n"
     ]
    }
   ],
   "source": [
    "top_annual_customers.info()"
   ]
  },
  {
   "cell_type": "code",
   "execution_count": 10,
   "metadata": {},
   "outputs": [],
   "source": [
    "# need to change the datatype of the expentiure onject into numbers (float or int)\n",
    "\n",
    "top_annual_customers['expenditure'] = top_annual_customers['expenditure'].astype(float)\n"
   ]
  },
  {
   "cell_type": "code",
   "execution_count": 11,
   "metadata": {},
   "outputs": [
    {
     "name": "stdout",
     "output_type": "stream",
     "text": [
      "<class 'pandas.core.frame.DataFrame'>\n",
      "RangeIndex: 10 entries, 0 to 9\n",
      "Data columns (total 3 columns):\n",
      " #   Column       Non-Null Count  Dtype  \n",
      "---  ------       --------------  -----  \n",
      " 0   customerid   10 non-null     object \n",
      " 1   firstname    10 non-null     object \n",
      " 2   expenditure  10 non-null     float64\n",
      "dtypes: float64(1), object(2)\n",
      "memory usage: 372.0+ bytes\n"
     ]
    }
   ],
   "source": [
    "top_annual_customers.info()"
   ]
  },
  {
   "cell_type": "code",
   "execution_count": 12,
   "metadata": {},
   "outputs": [],
   "source": [
    "customer_names = top_annual_customers['firstname'].values"
   ]
  },
  {
   "cell_type": "code",
   "execution_count": 13,
   "metadata": {},
   "outputs": [],
   "source": [
    "customer_exp = top_annual_customers['expenditure'].values"
   ]
  },
  {
   "cell_type": "code",
   "execution_count": 14,
   "metadata": {},
   "outputs": [
    {
     "data": {
      "text/plain": [
       "array(['Veer', 'Priyansh', 'Riya', 'Vanya', 'Dhruv', 'Tarini', 'Yuvraj ',\n",
       "       'Rhea', 'Darshit', 'Prerak'], dtype=object)"
      ]
     },
     "execution_count": 14,
     "metadata": {},
     "output_type": "execute_result"
    }
   ],
   "source": [
    "customer_names"
   ]
  },
  {
   "cell_type": "code",
   "execution_count": 15,
   "metadata": {},
   "outputs": [
    {
     "data": {
      "text/plain": [
       "array([13016064., 12629337., 12599608., 12455437., 12280916., 12130487.,\n",
       "       11868602., 11704275., 11520699., 11442527.])"
      ]
     },
     "execution_count": 15,
     "metadata": {},
     "output_type": "execute_result"
    }
   ],
   "source": [
    "customer_exp"
   ]
  },
  {
   "cell_type": "code",
   "execution_count": 20,
   "metadata": {},
   "outputs": [],
   "source": [
    "cmap_val = np.linspace(0.3,1,10)"
   ]
  },
  {
   "cell_type": "code",
   "execution_count": 23,
   "metadata": {},
   "outputs": [],
   "source": [
    "cmap=plt.cm.PuBuGn(cmap_val)"
   ]
  },
  {
   "cell_type": "code",
   "execution_count": 24,
   "metadata": {},
   "outputs": [
    {
     "data": {
      "image/png": "[encoded data removed]",
      "text/plain": [
       "<Figure size 1000x400 with 1 Axes>"
      ]
     },
     "metadata": {},
     "output_type": "display_data"
    }
   ],
   "source": [
    "# customize the figure size\n",
    "plt.figure(figsize=(10,4))\n",
    "\n",
    "# ploting bar graph\n",
    "plt.bar(x=customer_names,height =customer_exp,color= cmap)\n",
    "\n",
    "# giving title to the graph\n",
    "plt.title(\"Top 10 Annual Customer's Names\",pad=15, size=15,color='red')\n",
    "\n",
    "# using cmap\n",
    "#cmap = plt.cm.Greens(np.linspace(0.5,1),len(customer_names))\n",
    "\n",
    "# giving labels to the grapg\n",
    "plt.xlabel('customer_names',labelpad=15, color='purple', size=15)\n",
    "plt.ylabel('customer_exp',labelpad=15, c='purple',size=15)\n",
    "\n",
    "# using anotation\n",
    "plt.xticks(rotation = 25,c='#000080')\n",
    "\n",
    "# applying grid\n",
    "plt.grid(axis='y',alpha=0.5,color='black',ls='dashed')\n",
    "\n",
    "\n",
    "\n",
    "plt.show()"
   ]
  },
  {
   "cell_type": "code",
   "execution_count": 17,
   "metadata": {},
   "outputs": [
    {
     "data": {
      "text/plain": [
       "1000000.0"
      ]
     },
     "execution_count": 17,
     "metadata": {},
     "output_type": "execute_result"
    }
   ],
   "source": [
    "1e6"
   ]
  },
  {
   "cell_type": "code",
   "execution_count": 17,
   "metadata": {},
   "outputs": [
    {
     "data": {
      "image/png": "[encoded data removed]",
      "text/plain": [
       "<Figure size 1000x400 with 1 Axes>"
      ]
     },
     "metadata": {},
     "output_type": "display_data"
    }
   ],
   "source": [
    "plt.figure(figsize=(10,4))\n",
    "\n",
    "plt.plot(customer_names,customer_exp,color='#F88379',linestyle='dashed',marker='o',markeredgecolor='black',markersize = 8,mfc='blue',lw = 1) \n",
    "\n",
    "plt.title(\"Top_annual_customer's_names\",pad=15, size=15,color='green')\n",
    "\n",
    "plt.xlabel('customer_names',labelpad=15, color='purple', size=15)\n",
    "plt.ylabel('customer_exp',labelpad=15, c='purple',size=15)\n",
    "\n",
    "plt.xticks(rotation = 25,c='#000080')\n",
    "\n",
    "plt.grid(axis='y',alpha=0.5,color='black',ls='dotted')\n",
    "\n",
    "\n",
    "plt.show()"
   ]
  },
  {
   "cell_type": "code",
   "execution_count": 25,
   "metadata": {},
   "outputs": [
    {
     "data": {
      "text/html": [
       "<div>\n",
       "<style scoped>\n",
       "    .dataframe tbody tr th:only-of-type {\n",
       "        vertical-align: middle;\n",
       "    }\n",
       "\n",
       "    .dataframe tbody tr th {\n",
       "        vertical-align: top;\n",
       "    }\n",
       "\n",
       "    .dataframe thead th {\n",
       "        text-align: right;\n",
       "    }\n",
       "</style>\n",
       "<table border=\"1\" class=\"dataframe\">\n",
       "  <thead>\n",
       "    <tr style=\"text-align: right;\">\n",
       "      <th></th>\n",
       "      <th>Tables_in_swiftmarket</th>\n",
       "    </tr>\n",
       "  </thead>\n",
       "  <tbody>\n",
       "    <tr>\n",
       "      <th>0</th>\n",
       "      <td>categories</td>\n",
       "    </tr>\n",
       "    <tr>\n",
       "      <th>1</th>\n",
       "      <td>customers</td>\n",
       "    </tr>\n",
       "    <tr>\n",
       "      <th>2</th>\n",
       "      <td>employees</td>\n",
       "    </tr>\n",
       "    <tr>\n",
       "      <th>3</th>\n",
       "      <td>salesdata</td>\n",
       "    </tr>\n",
       "    <tr>\n",
       "      <th>4</th>\n",
       "      <td>subcategories</td>\n",
       "    </tr>\n",
       "    <tr>\n",
       "      <th>5</th>\n",
       "      <td>suppliers</td>\n",
       "    </tr>\n",
       "  </tbody>\n",
       "</table>\n",
       "</div>"
      ],
      "text/plain": [
       "  Tables_in_swiftmarket\n",
       "0            categories\n",
       "1             customers\n",
       "2             employees\n",
       "3             salesdata\n",
       "4         subcategories\n",
       "5             suppliers"
      ]
     },
     "execution_count": 25,
     "metadata": {},
     "output_type": "execute_result"
    }
   ],
   "source": [
    "query = 'show tables;'\n",
    "read_query(query) "
   ]
  },
  {
   "cell_type": "code",
   "execution_count": 26,
   "metadata": {},
   "outputs": [
    {
     "data": {
      "text/html": [
       "<div>\n",
       "<style scoped>\n",
       "    .dataframe tbody tr th:only-of-type {\n",
       "        vertical-align: middle;\n",
       "    }\n",
       "\n",
       "    .dataframe tbody tr th {\n",
       "        vertical-align: top;\n",
       "    }\n",
       "\n",
       "    .dataframe thead th {\n",
       "        text-align: right;\n",
       "    }\n",
       "</style>\n",
       "<table border=\"1\" class=\"dataframe\">\n",
       "  <thead>\n",
       "    <tr style=\"text-align: right;\">\n",
       "      <th></th>\n",
       "      <th>SaleID</th>\n",
       "      <th>CustomerID</th>\n",
       "      <th>SubcatID</th>\n",
       "      <th>EmployeeID</th>\n",
       "      <th>SaleDate</th>\n",
       "      <th>Quantity</th>\n",
       "      <th>TotalPrice</th>\n",
       "    </tr>\n",
       "  </thead>\n",
       "  <tbody>\n",
       "    <tr>\n",
       "      <th>0</th>\n",
       "      <td>23000</td>\n",
       "      <td>C-2023-100-12</td>\n",
       "      <td>6002</td>\n",
       "      <td>1100</td>\n",
       "      <td>2023-05-02</td>\n",
       "      <td>2</td>\n",
       "      <td>176432.00</td>\n",
       "    </tr>\n",
       "    <tr>\n",
       "      <th>1</th>\n",
       "      <td>23001</td>\n",
       "      <td>C-2023-100-141</td>\n",
       "      <td>6029</td>\n",
       "      <td>1115</td>\n",
       "      <td>2023-12-26</td>\n",
       "      <td>2</td>\n",
       "      <td>47172.00</td>\n",
       "    </tr>\n",
       "    <tr>\n",
       "      <th>2</th>\n",
       "      <td>23002</td>\n",
       "      <td>C-2023-100-86</td>\n",
       "      <td>6029</td>\n",
       "      <td>1035</td>\n",
       "      <td>2023-03-26</td>\n",
       "      <td>2</td>\n",
       "      <td>47172.00</td>\n",
       "    </tr>\n",
       "    <tr>\n",
       "      <th>3</th>\n",
       "      <td>23003</td>\n",
       "      <td>C-2023-100-72</td>\n",
       "      <td>6006</td>\n",
       "      <td>1016</td>\n",
       "      <td>2023-08-01</td>\n",
       "      <td>2</td>\n",
       "      <td>117644.00</td>\n",
       "    </tr>\n",
       "    <tr>\n",
       "      <th>4</th>\n",
       "      <td>23004</td>\n",
       "      <td>C-2023-100-142</td>\n",
       "      <td>6030</td>\n",
       "      <td>1067</td>\n",
       "      <td>2023-03-06</td>\n",
       "      <td>5</td>\n",
       "      <td>336560.00</td>\n",
       "    </tr>\n",
       "    <tr>\n",
       "      <th>5</th>\n",
       "      <td>23005</td>\n",
       "      <td>C-2023-100-72</td>\n",
       "      <td>6015</td>\n",
       "      <td>1012</td>\n",
       "      <td>2023-11-22</td>\n",
       "      <td>5</td>\n",
       "      <td>396935.00</td>\n",
       "    </tr>\n",
       "    <tr>\n",
       "      <th>6</th>\n",
       "      <td>23006</td>\n",
       "      <td>C-2023-100-78</td>\n",
       "      <td>6015</td>\n",
       "      <td>1044</td>\n",
       "      <td>2023-10-26</td>\n",
       "      <td>5</td>\n",
       "      <td>396935.00</td>\n",
       "    </tr>\n",
       "    <tr>\n",
       "      <th>7</th>\n",
       "      <td>23007</td>\n",
       "      <td>C-2023-100-36</td>\n",
       "      <td>6017</td>\n",
       "      <td>1018</td>\n",
       "      <td>2023-03-29</td>\n",
       "      <td>5</td>\n",
       "      <td>295510.00</td>\n",
       "    </tr>\n",
       "    <tr>\n",
       "      <th>8</th>\n",
       "      <td>23008</td>\n",
       "      <td>C-2023-100-147</td>\n",
       "      <td>6030</td>\n",
       "      <td>1049</td>\n",
       "      <td>2023-01-17</td>\n",
       "      <td>3</td>\n",
       "      <td>201936.00</td>\n",
       "    </tr>\n",
       "    <tr>\n",
       "      <th>9</th>\n",
       "      <td>23009</td>\n",
       "      <td>C-2023-100-7</td>\n",
       "      <td>6019</td>\n",
       "      <td>1047</td>\n",
       "      <td>2023-07-19</td>\n",
       "      <td>4</td>\n",
       "      <td>56188.00</td>\n",
       "    </tr>\n",
       "  </tbody>\n",
       "</table>\n",
       "</div>"
      ],
      "text/plain": [
       "   SaleID      CustomerID  SubcatID  EmployeeID    SaleDate  Quantity  \\\n",
       "0   23000   C-2023-100-12      6002        1100  2023-05-02         2   \n",
       "1   23001  C-2023-100-141      6029        1115  2023-12-26         2   \n",
       "2   23002   C-2023-100-86      6029        1035  2023-03-26         2   \n",
       "3   23003   C-2023-100-72      6006        1016  2023-08-01         2   \n",
       "4   23004  C-2023-100-142      6030        1067  2023-03-06         5   \n",
       "5   23005   C-2023-100-72      6015        1012  2023-11-22         5   \n",
       "6   23006   C-2023-100-78      6015        1044  2023-10-26         5   \n",
       "7   23007   C-2023-100-36      6017        1018  2023-03-29         5   \n",
       "8   23008  C-2023-100-147      6030        1049  2023-01-17         3   \n",
       "9   23009    C-2023-100-7      6019        1047  2023-07-19         4   \n",
       "\n",
       "  TotalPrice  \n",
       "0  176432.00  \n",
       "1   47172.00  \n",
       "2   47172.00  \n",
       "3  117644.00  \n",
       "4  336560.00  \n",
       "5  396935.00  \n",
       "6  396935.00  \n",
       "7  295510.00  \n",
       "8  201936.00  \n",
       "9   56188.00  "
      ]
     },
     "execution_count": 26,
     "metadata": {},
     "output_type": "execute_result"
    }
   ],
   "source": [
    "query = 'select * from salesdata limit 10;'\n",
    "read_query(query)"
   ]
  },
  {
   "cell_type": "code",
   "execution_count": 28,
   "metadata": {},
   "outputs": [],
   "source": [
    "query = \"\"\"select \n",
    "    monthname(s.saledate ) as monthnames,\n",
    "    e.firstname,\n",
    "    sum(s.totalprice) as totalsales\n",
    "from salesdata s\n",
    "    join employees e\n",
    "    on s.employeeid=e.employeeid\n",
    "where monthname(saledate) = 'January'\n",
    "group by  monthname(s.saledate ),e.firstname\n",
    "order by totalsales desc\n",
    "limit 10; \"\"\"\n",
    "\n",
    "df = read_query(query=query)"
   ]
  },
  {
   "cell_type": "code",
   "execution_count": 29,
   "metadata": {},
   "outputs": [
    {
     "data": {
      "text/html": [
       "<div>\n",
       "<style scoped>\n",
       "    .dataframe tbody tr th:only-of-type {\n",
       "        vertical-align: middle;\n",
       "    }\n",
       "\n",
       "    .dataframe tbody tr th {\n",
       "        vertical-align: top;\n",
       "    }\n",
       "\n",
       "    .dataframe thead th {\n",
       "        text-align: right;\n",
       "    }\n",
       "</style>\n",
       "<table border=\"1\" class=\"dataframe\">\n",
       "  <thead>\n",
       "    <tr style=\"text-align: right;\">\n",
       "      <th></th>\n",
       "      <th>monthnames</th>\n",
       "      <th>firstname</th>\n",
       "      <th>totalsales</th>\n",
       "    </tr>\n",
       "  </thead>\n",
       "  <tbody>\n",
       "    <tr>\n",
       "      <th>0</th>\n",
       "      <td>January</td>\n",
       "      <td>Bhavin</td>\n",
       "      <td>5775952.00</td>\n",
       "    </tr>\n",
       "    <tr>\n",
       "      <th>1</th>\n",
       "      <td>January</td>\n",
       "      <td>Nitara</td>\n",
       "      <td>5567036.00</td>\n",
       "    </tr>\n",
       "    <tr>\n",
       "      <th>2</th>\n",
       "      <td>January</td>\n",
       "      <td>Myra</td>\n",
       "      <td>4888628.00</td>\n",
       "    </tr>\n",
       "    <tr>\n",
       "      <th>3</th>\n",
       "      <td>January</td>\n",
       "      <td>Renee</td>\n",
       "      <td>3924716.00</td>\n",
       "    </tr>\n",
       "    <tr>\n",
       "      <th>4</th>\n",
       "      <td>January</td>\n",
       "      <td>Shray</td>\n",
       "      <td>3719152.00</td>\n",
       "    </tr>\n",
       "    <tr>\n",
       "      <th>5</th>\n",
       "      <td>January</td>\n",
       "      <td>Yuvaan</td>\n",
       "      <td>3348039.00</td>\n",
       "    </tr>\n",
       "    <tr>\n",
       "      <th>6</th>\n",
       "      <td>January</td>\n",
       "      <td>Anika</td>\n",
       "      <td>3152408.00</td>\n",
       "    </tr>\n",
       "    <tr>\n",
       "      <th>7</th>\n",
       "      <td>January</td>\n",
       "      <td>Kiaan</td>\n",
       "      <td>3136727.00</td>\n",
       "    </tr>\n",
       "    <tr>\n",
       "      <th>8</th>\n",
       "      <td>January</td>\n",
       "      <td>Yasmin</td>\n",
       "      <td>3135779.00</td>\n",
       "    </tr>\n",
       "    <tr>\n",
       "      <th>9</th>\n",
       "      <td>January</td>\n",
       "      <td>Hiran</td>\n",
       "      <td>3104523.00</td>\n",
       "    </tr>\n",
       "  </tbody>\n",
       "</table>\n",
       "</div>"
      ],
      "text/plain": [
       "  monthnames firstname  totalsales\n",
       "0    January    Bhavin  5775952.00\n",
       "1    January    Nitara  5567036.00\n",
       "2    January      Myra  4888628.00\n",
       "3    January     Renee  3924716.00\n",
       "4    January     Shray  3719152.00\n",
       "5    January    Yuvaan  3348039.00\n",
       "6    January     Anika  3152408.00\n",
       "7    January     Kiaan  3136727.00\n",
       "8    January    Yasmin  3135779.00\n",
       "9    January     Hiran  3104523.00"
      ]
     },
     "execution_count": 29,
     "metadata": {},
     "output_type": "execute_result"
    }
   ],
   "source": [
    "df"
   ]
  },
  {
   "cell_type": "code",
   "execution_count": 31,
   "metadata": {},
   "outputs": [],
   "source": [
    "df['totalsales'] = df['totalsales'].astype(float)"
   ]
  },
  {
   "cell_type": "code",
   "execution_count": 32,
   "metadata": {},
   "outputs": [
    {
     "name": "stdout",
     "output_type": "stream",
     "text": [
      "<class 'pandas.core.frame.DataFrame'>\n",
      "RangeIndex: 10 entries, 0 to 9\n",
      "Data columns (total 3 columns):\n",
      " #   Column      Non-Null Count  Dtype  \n",
      "---  ------      --------------  -----  \n",
      " 0   monthnames  10 non-null     object \n",
      " 1   firstname   10 non-null     object \n",
      " 2   totalsales  10 non-null     float64\n",
      "dtypes: float64(1), object(2)\n",
      "memory usage: 372.0+ bytes\n"
     ]
    }
   ],
   "source": [
    "df.info()"
   ]
  },
  {
   "cell_type": "code",
   "execution_count": 33,
   "metadata": {},
   "outputs": [],
   "source": [
    "emp_names = df['firstname'].values"
   ]
  },
  {
   "cell_type": "code",
   "execution_count": 34,
   "metadata": {},
   "outputs": [
    {
     "data": {
      "text/plain": [
       "array(['Bhavin', 'Nitara', 'Myra', 'Renee', 'Shray', 'Yuvaan', 'Anika',\n",
       "       'Kiaan', 'Yasmin', 'Hiran'], dtype=object)"
      ]
     },
     "execution_count": 34,
     "metadata": {},
     "output_type": "execute_result"
    }
   ],
   "source": [
    "emp_names"
   ]
  },
  {
   "cell_type": "code",
   "execution_count": 36,
   "metadata": {},
   "outputs": [],
   "source": [
    "total_sales = df['totalsales'].values"
   ]
  },
  {
   "cell_type": "code",
   "execution_count": 37,
   "metadata": {},
   "outputs": [
    {
     "data": {
      "text/plain": [
       "array([5775952., 5567036., 4888628., 3924716., 3719152., 3348039.,\n",
       "       3152408., 3136727., 3135779., 3104523.])"
      ]
     },
     "execution_count": 37,
     "metadata": {},
     "output_type": "execute_result"
    }
   ],
   "source": [
    "total_sales"
   ]
  },
  {
   "cell_type": "code",
   "execution_count": 43,
   "metadata": {},
   "outputs": [],
   "source": [
    "cmap_val = np.linspace(0.3,1,10)"
   ]
  },
  {
   "cell_type": "code",
   "execution_count": 52,
   "metadata": {},
   "outputs": [],
   "source": [
    "cmap=plt.cm.Greens(cmap_val)"
   ]
  },
  {
   "cell_type": "code",
   "execution_count": 51,
   "metadata": {},
   "outputs": [
    {
     "data": {
      "text/plain": [
       "Text(0.5, 1.0, 'Top 10 Employees Names')"
      ]
     },
     "execution_count": 51,
     "metadata": {},
     "output_type": "execute_result"
    },
    {
     "data": {
      "image/png": "[encoded data removed]",
      "text/plain": [
       "<Figure size 1000x400 with 1 Axes>"
      ]
     },
     "metadata": {},
     "output_type": "display_data"
    }
   ],
   "source": [
    "plt.figure(figsize=(10,4))\n",
    "\n",
    "plt.bar(height=total_sales,x=emp_names,color=cmap)\n",
    "\n",
    "plt.title('Top 10 Employees Names', c = 'red', pad=15 )"
   ]
  },
  {
   "cell_type": "code",
   "execution_count": null,
   "metadata": {},
   "outputs": [],
   "source": []
  }
 ],
 "metadata": {
  "kernelspec": {
   "display_name": "10amProject",
   "language": "python",
   "name": "python3"
  },
  "language_info": {
   "codemirror_mode": {
    "name": "ipython",
    "version": 3
   },
   "file_extension": ".py",
   "mimetype": "text/x-python",
   "name": "python",
   "nbconvert_exporter": "python",
   "pygments_lexer": "ipython3",
   "version": "3.11.8"
  }
 },
 "nbformat": 4,
 "nbformat_minor": 2
}
